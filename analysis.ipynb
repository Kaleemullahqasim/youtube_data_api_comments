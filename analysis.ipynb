{
 "cells": [
  {
   "cell_type": "code",
   "execution_count": 172,
   "metadata": {},
   "outputs": [],
   "source": [
    "import pandas as pd \n",
    "import numpy as np\n",
    "import matplotlib.pyplot as plt\n",
    "import pprint\n",
    "import seaborn as sns\n",
    "import tqdm\n",
    "import textblob\n",
    "import nltk\n",
    "import texthero as hero\n",
    "import re\n",
    "import requests \n",
    "from bs4 import BeautifulSoup\n"
   ]
  },
  {
   "cell_type": "code",
   "execution_count": 173,
   "metadata": {},
   "outputs": [],
   "source": [
    "# read csv \n",
    "df = pd.read_csv(\"/Users/kaleemullahqasim/Documents/GitHub/youtube_data_api_comments/all_comments.csv\")"
   ]
  },
  {
   "cell_type": "code",
   "execution_count": 174,
   "metadata": {},
   "outputs": [
    {
     "data": {
      "text/html": [
       "<div>\n",
       "<style scoped>\n",
       "    .dataframe tbody tr th:only-of-type {\n",
       "        vertical-align: middle;\n",
       "    }\n",
       "\n",
       "    .dataframe tbody tr th {\n",
       "        vertical-align: top;\n",
       "    }\n",
       "\n",
       "    .dataframe thead th {\n",
       "        text-align: right;\n",
       "    }\n",
       "</style>\n",
       "<table border=\"1\" class=\"dataframe\">\n",
       "  <thead>\n",
       "    <tr style=\"text-align: right;\">\n",
       "      <th></th>\n",
       "      <th>video_id</th>\n",
       "      <th>video_title</th>\n",
       "      <th>author</th>\n",
       "      <th>comment_text</th>\n",
       "    </tr>\n",
       "  </thead>\n",
       "  <tbody>\n",
       "    <tr>\n",
       "      <th>0</th>\n",
       "      <td>LD_Kjh7ZhMU</td>\n",
       "      <td>Are you ready?👀👁️</td>\n",
       "      <td>Sourabh Kumar</td>\n",
       "      <td>Name??</td>\n",
       "    </tr>\n",
       "    <tr>\n",
       "      <th>1</th>\n",
       "      <td>LD_Kjh7ZhMU</td>\n",
       "      <td>Are you ready?👀👁️</td>\n",
       "      <td>Abdulrosheed Abdullahi</td>\n",
       "      <td>Hello dear how are you doing</td>\n",
       "    </tr>\n",
       "    <tr>\n",
       "      <th>2</th>\n",
       "      <td>LD_Kjh7ZhMU</td>\n",
       "      <td>Are you ready?👀👁️</td>\n",
       "      <td>Abdul1056</td>\n",
       "      <td>&amp;quot;Soap trusted you, and so do I&amp;quot;</td>\n",
       "    </tr>\n",
       "    <tr>\n",
       "      <th>3</th>\n",
       "      <td>LD_Kjh7ZhMU</td>\n",
       "      <td>Are you ready?👀👁️</td>\n",
       "      <td>magdalena sanchez</td>\n",
       "      <td>Insecure about her under arms 😆</td>\n",
       "    </tr>\n",
       "    <tr>\n",
       "      <th>4</th>\n",
       "      <td>LD_Kjh7ZhMU</td>\n",
       "      <td>Are you ready?👀👁️</td>\n",
       "      <td>joe rroo</td>\n",
       "      <td>Pourquoi pas tu me donne idée de…..  oh non</td>\n",
       "    </tr>\n",
       "  </tbody>\n",
       "</table>\n",
       "</div>"
      ],
      "text/plain": [
       "      video_id        video_title                  author  \\\n",
       "0  LD_Kjh7ZhMU  Are you ready?👀👁️           Sourabh Kumar   \n",
       "1  LD_Kjh7ZhMU  Are you ready?👀👁️  Abdulrosheed Abdullahi   \n",
       "2  LD_Kjh7ZhMU  Are you ready?👀👁️               Abdul1056   \n",
       "3  LD_Kjh7ZhMU  Are you ready?👀👁️       magdalena sanchez   \n",
       "4  LD_Kjh7ZhMU  Are you ready?👀👁️                joe rroo   \n",
       "\n",
       "                                  comment_text  \n",
       "0                                       Name??  \n",
       "1                 Hello dear how are you doing  \n",
       "2    &quot;Soap trusted you, and so do I&quot;  \n",
       "3              Insecure about her under arms 😆  \n",
       "4  Pourquoi pas tu me donne idée de…..  oh non  "
      ]
     },
     "execution_count": 174,
     "metadata": {},
     "output_type": "execute_result"
    }
   ],
   "source": [
    "df.head()"
   ]
  },
  {
   "cell_type": "code",
   "execution_count": 175,
   "metadata": {},
   "outputs": [
    {
     "name": "stdout",
     "output_type": "stream",
     "text": [
      "Urls:  ['https://auth.geeksforgeeks.org/user/Chinmoy%20Lenka/articles', 'http://www.geeksforgeeks.org/']\n"
     ]
    }
   ],
   "source": [
    "def Find(string):\n",
    "  \n",
    "    # findall() has been used \n",
    "    # with valid conditions for urls in string\n",
    "    regex = r\"(?i)\\b((?:https?://|www\\d{0,3}[.]|[a-z0-9.\\-]+[.][a-z]{2,4}/)(?:[^\\s()<>]+|\\(([^\\s()<>]+|(\\([^\\s()<>]+\\)))*\\))+(?:\\(([^\\s()<>]+|(\\([^\\s()<>]+\\)))*\\)|[^\\s`!()\\[\\]{};:'\\\".,<>?«»“”‘’]))\"\n",
    "    url = re.findall(regex,string)      \n",
    "    return [x[0] for x in url]\n",
    "      \n",
    "# Driver Code\n",
    "string = 'My Profile: https://auth.geeksforgeeks.org/user/Chinmoy%20Lenka/articles in the portal of http://www.geeksforgeeks.org/'\n",
    "print(\"Urls: \", Find(string))"
   ]
  },
  {
   "cell_type": "code",
   "execution_count": 176,
   "metadata": {},
   "outputs": [],
   "source": [
    "# use def Find(string) to find all urls in df['comment_text']\n",
    "df['urls'] = df['comment_text'].apply(Find)"
   ]
  },
  {
   "cell_type": "code",
   "execution_count": 186,
   "metadata": {},
   "outputs": [
    {
     "data": {
      "text/plain": [
       "461     [https://www.youtube.com/watch?v=LD_Kjh7ZhMU&a...\n",
       "462     [https://www.youtube.com/watch?v=LD_Kjh7ZhMU&a...\n",
       "1008    [http://kuyya.site/, http://www.youtube.com/re...\n",
       "1025    [http://teasingsex.uno/, https://www.youtube.c...\n",
       "1087    [http://culosculonas.uno/, https://www.youtube...\n",
       "                              ...                        \n",
       "9711    [http://tanggo.monster/, http://www.youtube.co...\n",
       "9714    [https://www.youtube.com/watch?v=LgYfKrQIVuQ&a...\n",
       "9731    [http://kuyya.site/, http://www.youtube.com/re...\n",
       "9733    [http://kinglove.uno/, https://www.youtube.com...\n",
       "9815    [https://www.youtube.com/watch?v=LgYfKrQIVuQ&a...\n",
       "Name: urls, Length: 173, dtype: object"
      ]
     },
     "execution_count": 186,
     "metadata": {},
     "output_type": "execute_result"
    }
   ],
   "source": [
    "# select the rows where df['urls'] len > 0\n",
    "df['urls'].loc[df['urls'].apply(len) >= 6 ]"
   ]
  },
  {
   "cell_type": "code",
   "execution_count": null,
   "metadata": {},
   "outputs": [],
   "source": []
  }
 ],
 "metadata": {
  "kernelspec": {
   "display_name": "Python 3.9.7 ('base')",
   "language": "python",
   "name": "python3"
  },
  "language_info": {
   "codemirror_mode": {
    "name": "ipython",
    "version": 3
   },
   "file_extension": ".py",
   "mimetype": "text/x-python",
   "name": "python",
   "nbconvert_exporter": "python",
   "pygments_lexer": "ipython3",
   "version": "3.9.7"
  },
  "orig_nbformat": 4,
  "vscode": {
   "interpreter": {
    "hash": "6d39f47e50317510f687384750e1e18985b8b3db3da213dcdf6ffd42f36a26b1"
   }
  }
 },
 "nbformat": 4,
 "nbformat_minor": 2
}
