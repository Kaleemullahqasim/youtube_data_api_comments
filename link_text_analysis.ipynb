{
 "cells": [
  {
   "cell_type": "code",
   "execution_count": 2,
   "metadata": {},
   "outputs": [],
   "source": [
    "import pandas as pd \n",
    "import numpy as np\n",
    "import matplotlib.pyplot as plt\n",
    "import pprint\n",
    "import seaborn as sns\n",
    "import tqdm\n",
    "import textblob\n",
    "import nltk\n",
    "import texthero as hero\n",
    "import re\n",
    "import requests \n",
    "from bs4 import BeautifulSoup\n",
    "from tqdm.notebook import tqdm_notebook\n",
    "tqdm_notebook.pandas()\n",
    "import texthero as hero"
   ]
  },
  {
   "cell_type": "markdown",
   "metadata": {},
   "source": [
    "Cleaning of URLS "
   ]
  },
  {
   "cell_type": "code",
   "execution_count": 4,
   "metadata": {},
   "outputs": [],
   "source": [
    "df =pd.read_csv(\"updated-url.csv\" , index_col=0)"
   ]
  },
  {
   "cell_type": "code",
   "execution_count": null,
   "metadata": {},
   "outputs": [],
   "source": [
    "df_output = pd.DataFrame(columns=['original_url', 'original_status', 'destination_url', 'destination_status'])\n",
    "\n",
    "for url in urls:\n",
    "    \n",
    "    response = requests.get(url, headers={'User-Agent': 'Google Chrome'})\n",
    "    row = {}\n",
    "    \n",
    "    if response.history:\n",
    "        for step in response.history:\n",
    "            row['original_url'] = step.url\n",
    "            row['original_status'] = step.status_code\n",
    "        row['destination_url'] = response.url\n",
    "        row['destination_status'] = response.status_code        \n",
    "    else:\n",
    "        row['original_url'] = response.url\n",
    "        row['original_status'] = response.status_code \n",
    "        row['destination_url'] = ''\n",
    "        row['destination_status'] = ''\n",
    "        \n",
    "    print(row)\n",
    "    \n",
    "    df_output = df_output.append(row, ignore_index=True)"
   ]
  },
  {
   "cell_type": "code",
   "execution_count": 5,
   "metadata": {},
   "outputs": [
    {
     "data": {
      "text/html": [
       "<div>\n",
       "<style scoped>\n",
       "    .dataframe tbody tr th:only-of-type {\n",
       "        vertical-align: middle;\n",
       "    }\n",
       "\n",
       "    .dataframe tbody tr th {\n",
       "        vertical-align: top;\n",
       "    }\n",
       "\n",
       "    .dataframe thead th {\n",
       "        text-align: right;\n",
       "    }\n",
       "</style>\n",
       "<table border=\"1\" class=\"dataframe\">\n",
       "  <thead>\n",
       "    <tr style=\"text-align: right;\">\n",
       "      <th></th>\n",
       "      <th>urls</th>\n",
       "      <th>text-content</th>\n",
       "    </tr>\n",
       "    <tr>\n",
       "      <th>Link-1</th>\n",
       "      <th></th>\n",
       "      <th></th>\n",
       "    </tr>\n",
       "  </thead>\n",
       "  <tbody>\n",
       "    <tr>\n",
       "      <th>['http://stepmom.uno/']</th>\n",
       "      <td>http://stepmom.uno/</td>\n",
       "      <td>free dating site warning see nude photos video...</td>\n",
       "    </tr>\n",
       "    <tr>\n",
       "      <th>['http://cu46.uno/']</th>\n",
       "      <td>http://cu46.uno/</td>\n",
       "      <td>free dating site warning see nude photos video...</td>\n",
       "    </tr>\n",
       "    <tr>\n",
       "      <th>'http://aishite.tokyo/KIMDA'</th>\n",
       "      <td>http://aishite.tokyo/kimda</td>\n",
       "      <td>please wait automatic redirecting secure page</td>\n",
       "    </tr>\n",
       "    <tr>\n",
       "      <th>['http://teenxxx.uno/'</th>\n",
       "      <td>http://teenxxx.uno/</td>\n",
       "      <td>free dating site warning see nude photos video...</td>\n",
       "    </tr>\n",
       "    <tr>\n",
       "      <th>['http://babes.maximaus.uno/']</th>\n",
       "      <td>http://babes.maximaus.uno/</td>\n",
       "      <td>free dating site warning see nude photos video...</td>\n",
       "    </tr>\n",
       "    <tr>\n",
       "      <th>...</th>\n",
       "      <td>...</td>\n",
       "      <td>...</td>\n",
       "    </tr>\n",
       "    <tr>\n",
       "      <th>['http://lh6churros.uno/']</th>\n",
       "      <td>http://lh6churros.uno/</td>\n",
       "      <td>free dating site warning see nude photos video...</td>\n",
       "    </tr>\n",
       "    <tr>\n",
       "      <th>'http://loveme.uno/bella'</th>\n",
       "      <td>http://loveme.uno/bella</td>\n",
       "      <td>please wait automatic redirecting secure page</td>\n",
       "    </tr>\n",
       "    <tr>\n",
       "      <th>['http://sukisuki-girls.monster/'</th>\n",
       "      <td>http://sukisuki-girls.monster/</td>\n",
       "      <td>NaN</td>\n",
       "    </tr>\n",
       "    <tr>\n",
       "      <th>['http://kinglove.uno/'</th>\n",
       "      <td>http://kinglove.uno/</td>\n",
       "      <td>free dating site warning see nude photos video...</td>\n",
       "    </tr>\n",
       "    <tr>\n",
       "      <th>['http://kimoci.online/']</th>\n",
       "      <td>http://kimoci.online/</td>\n",
       "      <td>please wait automatic redirecting secure page</td>\n",
       "    </tr>\n",
       "  </tbody>\n",
       "</table>\n",
       "<p>114 rows × 2 columns</p>\n",
       "</div>"
      ],
      "text/plain": [
       "                                                              urls  \\\n",
       "Link-1                                                               \n",
       " ['http://stepmom.uno/']                       http://stepmom.uno/   \n",
       " ['http://cu46.uno/']                             http://cu46.uno/   \n",
       "  'http://aishite.tokyo/KIMDA'          http://aishite.tokyo/kimda   \n",
       " ['http://teenxxx.uno/'                        http://teenxxx.uno/   \n",
       " ['http://babes.maximaus.uno/']         http://babes.maximaus.uno/   \n",
       "...                                                            ...   \n",
       " ['http://lh6churros.uno/']                 http://lh6churros.uno/   \n",
       "  'http://loveme.uno/bella'                http://loveme.uno/bella   \n",
       " ['http://sukisuki-girls.monster/'  http://sukisuki-girls.monster/   \n",
       " ['http://kinglove.uno/'                      http://kinglove.uno/   \n",
       " ['http://kimoci.online/']                   http://kimoci.online/   \n",
       "\n",
       "                                                                         text-content  \n",
       "Link-1                                                                                 \n",
       " ['http://stepmom.uno/']            free dating site warning see nude photos video...  \n",
       " ['http://cu46.uno/']               free dating site warning see nude photos video...  \n",
       "  'http://aishite.tokyo/KIMDA'          please wait automatic redirecting secure page  \n",
       " ['http://teenxxx.uno/'             free dating site warning see nude photos video...  \n",
       " ['http://babes.maximaus.uno/']     free dating site warning see nude photos video...  \n",
       "...                                                                               ...  \n",
       " ['http://lh6churros.uno/']         free dating site warning see nude photos video...  \n",
       "  'http://loveme.uno/bella'             please wait automatic redirecting secure page  \n",
       " ['http://sukisuki-girls.monster/'                                                NaN  \n",
       " ['http://kinglove.uno/'            free dating site warning see nude photos video...  \n",
       " ['http://kimoci.online/']              please wait automatic redirecting secure page  \n",
       "\n",
       "[114 rows x 2 columns]"
      ]
     },
     "execution_count": 5,
     "metadata": {},
     "output_type": "execute_result"
    }
   ],
   "source": [
    "df"
   ]
  },
  {
   "cell_type": "code",
   "execution_count": 13,
   "metadata": {},
   "outputs": [
    {
     "data": {
      "application/vnd.jupyter.widget-view+json": {
       "model_id": "f809d7a282db4184a05c73f9dcb5c689",
       "version_major": 2,
       "version_minor": 0
      },
      "text/plain": [
       "  0%|          | 0/114 [00:00<?, ?it/s]"
      ]
     },
     "metadata": {},
     "output_type": "display_data"
    }
   ],
   "source": [
    "def get_text(url):\n",
    "    try:\n",
    "        response = requests.get(url)\n",
    "        soup = BeautifulSoup(response.text, 'html.parser')\n",
    "        text = soup.get_text()\n",
    "        return text\n",
    "    except:\n",
    "        return None\n",
    "    \n",
    "# get text from all urls in non_youtube_urls\n",
    "df['text-content'] = df['urls'].progress_apply(get_text)"
   ]
  },
  {
   "cell_type": "code",
   "execution_count": null,
   "metadata": {},
   "outputs": [],
   "source": [
    "import texthero as hero\n",
    "import pandas as pd\n",
    "\n",
    "df = pd.read_csv(\n",
    "    \"https://github.com/jbesomi/texthero/raw/master/dataset/bbcsport.csv\"\n",
    ")\n",
    "\n",
    "df['tfidf'] = (\n",
    "    df['text']\n",
    "    .pipe(hero.clean)\n",
    "    .pipe(hero.tfidf)\n",
    ")\n",
    "\n",
    "df['kmeans_labels'] = (\n",
    "    df['tfidf']\n",
    "    .pipe(hero.kmeans, n_clusters=5)\n",
    "    .astype(str)\n",
    ")\n",
    "\n",
    "df['pca'] = df['tfidf'].pipe(hero.pca)\n",
    "\n",
    "hero.scatterplot(df, 'pca', color='kmeans_labels', title=\"K-means BBC Sport news\")"
   ]
  }
 ],
 "metadata": {
  "kernelspec": {
   "display_name": "Python 3.9.7 ('base')",
   "language": "python",
   "name": "python3"
  },
  "language_info": {
   "codemirror_mode": {
    "name": "ipython",
    "version": 3
   },
   "file_extension": ".py",
   "mimetype": "text/x-python",
   "name": "python",
   "nbconvert_exporter": "python",
   "pygments_lexer": "ipython3",
   "version": "3.9.7"
  },
  "orig_nbformat": 4,
  "vscode": {
   "interpreter": {
    "hash": "6d39f47e50317510f687384750e1e18985b8b3db3da213dcdf6ffd42f36a26b1"
   }
  }
 },
 "nbformat": 4,
 "nbformat_minor": 2
}
