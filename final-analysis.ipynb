{
 "cells": [
  {
   "cell_type": "code",
   "execution_count": 3,
   "metadata": {},
   "outputs": [],
   "source": [
    "import pandas as pd \n",
    "import numpy as np\n",
    "import matplotlib.pyplot as plt\n",
    "import pprint\n",
    "import seaborn as sns\n",
    "import tqdm\n",
    "import textblob\n",
    "import nltk\n",
    "import texthero as hero\n",
    "import re\n",
    "import requests \n",
    "from bs4 import BeautifulSoup\n",
    "from tqdm.notebook import tqdm_notebook\n",
    "tqdm_notebook.pandas()\n",
    "import texthero as hero"
   ]
  },
  {
   "cell_type": "code",
   "execution_count": 4,
   "metadata": {},
   "outputs": [],
   "source": [
    "df = pd.read_excel(\"non_youtube_urls.xlsx\", index_col = 0)"
   ]
  },
  {
   "cell_type": "code",
   "execution_count": 17,
   "metadata": {},
   "outputs": [],
   "source": [
    "df.to_excel(\"non_youtube_urls.xlsx\")"
   ]
  },
  {
   "cell_type": "code",
   "execution_count": 18,
   "metadata": {},
   "outputs": [
    {
     "data": {
      "text/html": [
       "<div>\n",
       "<style scoped>\n",
       "    .dataframe tbody tr th:only-of-type {\n",
       "        vertical-align: middle;\n",
       "    }\n",
       "\n",
       "    .dataframe tbody tr th {\n",
       "        vertical-align: top;\n",
       "    }\n",
       "\n",
       "    .dataframe thead th {\n",
       "        text-align: right;\n",
       "    }\n",
       "</style>\n",
       "<table border=\"1\" class=\"dataframe\">\n",
       "  <thead>\n",
       "    <tr style=\"text-align: right;\">\n",
       "      <th></th>\n",
       "      <th>Link-1</th>\n",
       "      <th>urls</th>\n",
       "      <th>text-content</th>\n",
       "      <th>html-content</th>\n",
       "      <th>hrefs</th>\n",
       "    </tr>\n",
       "  </thead>\n",
       "  <tbody>\n",
       "    <tr>\n",
       "      <th>1</th>\n",
       "      <td>['http://stepmom.uno/']</td>\n",
       "      <td>http://stepmom.uno/</td>\n",
       "      <td>free dating site warning see nude photos video...</td>\n",
       "      <td>b'&lt;!DOCTYPE html PUBLIC \"-//W3C//DTD XHTML 1.0...</td>\n",
       "      <td>[https://quickdates7.com/?utm_source=OymI1DohK...</td>\n",
       "    </tr>\n",
       "    <tr>\n",
       "      <th>2</th>\n",
       "      <td>['http://cu46.uno/']</td>\n",
       "      <td>http://cu46.uno/</td>\n",
       "      <td>free dating site warning see nude photos video...</td>\n",
       "      <td>b'\\r\\n\\r\\n&lt;!DOCTYPE html PUBLIC \"-//W3C//DTD X...</td>\n",
       "      <td>[https://snapbabes9.com/?utm_source=87CqD6IvvG...</td>\n",
       "    </tr>\n",
       "    <tr>\n",
       "      <th>6</th>\n",
       "      <td>'http://aishite.tokyo/KIMDA'</td>\n",
       "      <td>http://aishite.tokyo/KIMDA</td>\n",
       "      <td>please wait automatic redirecting secure page</td>\n",
       "      <td>b'&lt;!DOCTYPE html&gt;\\n&lt;html lang=\"en\"&gt;\\n&lt;head&gt;\\n&lt;...</td>\n",
       "      <td>[]</td>\n",
       "    </tr>\n",
       "    <tr>\n",
       "      <th>15</th>\n",
       "      <td>'http://aishite.tokyo/KIMDA'</td>\n",
       "      <td>http://aishite.tokyo/KIMDA</td>\n",
       "      <td>please wait automatic redirecting secure page</td>\n",
       "      <td>b'&lt;!DOCTYPE html&gt;\\n&lt;html lang=\"en\"&gt;\\n&lt;head&gt;\\n&lt;...</td>\n",
       "      <td>[]</td>\n",
       "    </tr>\n",
       "    <tr>\n",
       "      <th>25</th>\n",
       "      <td>['http://memex.monster/'</td>\n",
       "      <td>http://memex.monster/</td>\n",
       "      <td>NaN</td>\n",
       "      <td>b''</td>\n",
       "      <td>[]</td>\n",
       "    </tr>\n",
       "  </tbody>\n",
       "</table>\n",
       "</div>"
      ],
      "text/plain": [
       "                            Link-1                        urls  \\\n",
       "1          ['http://stepmom.uno/']         http://stepmom.uno/   \n",
       "2             ['http://cu46.uno/']            http://cu46.uno/   \n",
       "6     'http://aishite.tokyo/KIMDA'  http://aishite.tokyo/KIMDA   \n",
       "15    'http://aishite.tokyo/KIMDA'  http://aishite.tokyo/KIMDA   \n",
       "25        ['http://memex.monster/'       http://memex.monster/   \n",
       "\n",
       "                                         text-content  \\\n",
       "1   free dating site warning see nude photos video...   \n",
       "2   free dating site warning see nude photos video...   \n",
       "6       please wait automatic redirecting secure page   \n",
       "15      please wait automatic redirecting secure page   \n",
       "25                                                NaN   \n",
       "\n",
       "                                         html-content  \\\n",
       "1   b'<!DOCTYPE html PUBLIC \"-//W3C//DTD XHTML 1.0...   \n",
       "2   b'\\r\\n\\r\\n<!DOCTYPE html PUBLIC \"-//W3C//DTD X...   \n",
       "6   b'<!DOCTYPE html>\\n<html lang=\"en\">\\n<head>\\n<...   \n",
       "15  b'<!DOCTYPE html>\\n<html lang=\"en\">\\n<head>\\n<...   \n",
       "25                                                b''   \n",
       "\n",
       "                                                hrefs  \n",
       "1   [https://quickdates7.com/?utm_source=OymI1DohK...  \n",
       "2   [https://snapbabes9.com/?utm_source=87CqD6IvvG...  \n",
       "6                                                  []  \n",
       "15                                                 []  \n",
       "25                                                 []  "
      ]
     },
     "execution_count": 18,
     "metadata": {},
     "output_type": "execute_result"
    }
   ],
   "source": [
    "df.head()"
   ]
  },
  {
   "cell_type": "code",
   "execution_count": 6,
   "metadata": {},
   "outputs": [],
   "source": [
    "# drop image column \n",
    "df = df.drop(columns = ['images']) "
   ]
  },
  {
   "cell_type": "code",
   "execution_count": 7,
   "metadata": {},
   "outputs": [
    {
     "data": {
      "application/vnd.jupyter.widget-view+json": {
       "model_id": "cfb4afdd2cda43338a2a02b4eff2b75f",
       "version_major": 2,
       "version_minor": 0
      },
      "text/plain": [
       "  0%|          | 0/347 [00:00<?, ?it/s]"
      ]
     },
     "metadata": {},
     "output_type": "display_data"
    }
   ],
   "source": [
    "def get_content(url):\n",
    "    try:\n",
    "        response = requests.get(url)\n",
    "        return response.content\n",
    "    except:\n",
    "        return None\n",
    "# get img from all urls in non_youtube_urls\n",
    "df['html-content'] = df['urls'].progress_apply(get_content)"
   ]
  },
  {
   "cell_type": "code",
   "execution_count": 8,
   "metadata": {},
   "outputs": [
    {
     "data": {
      "text/html": [
       "<div>\n",
       "<style scoped>\n",
       "    .dataframe tbody tr th:only-of-type {\n",
       "        vertical-align: middle;\n",
       "    }\n",
       "\n",
       "    .dataframe tbody tr th {\n",
       "        vertical-align: top;\n",
       "    }\n",
       "\n",
       "    .dataframe thead th {\n",
       "        text-align: right;\n",
       "    }\n",
       "</style>\n",
       "<table border=\"1\" class=\"dataframe\">\n",
       "  <thead>\n",
       "    <tr style=\"text-align: right;\">\n",
       "      <th></th>\n",
       "      <th>Link-1</th>\n",
       "      <th>urls</th>\n",
       "      <th>text-content</th>\n",
       "      <th>html-content</th>\n",
       "    </tr>\n",
       "  </thead>\n",
       "  <tbody>\n",
       "    <tr>\n",
       "      <th>1</th>\n",
       "      <td>['http://stepmom.uno/']</td>\n",
       "      <td>http://stepmom.uno/</td>\n",
       "      <td>free dating site warning see nude photos video...</td>\n",
       "      <td>b'&lt;!DOCTYPE html PUBLIC \"-//W3C//DTD XHTML 1.0...</td>\n",
       "    </tr>\n",
       "    <tr>\n",
       "      <th>2</th>\n",
       "      <td>['http://cu46.uno/']</td>\n",
       "      <td>http://cu46.uno/</td>\n",
       "      <td>free dating site warning see nude photos video...</td>\n",
       "      <td>b'\\r\\n\\r\\n&lt;!DOCTYPE html PUBLIC \"-//W3C//DTD X...</td>\n",
       "    </tr>\n",
       "    <tr>\n",
       "      <th>6</th>\n",
       "      <td>'http://aishite.tokyo/KIMDA'</td>\n",
       "      <td>http://aishite.tokyo/KIMDA</td>\n",
       "      <td>please wait automatic redirecting secure page</td>\n",
       "      <td>b'&lt;!DOCTYPE html&gt;\\n&lt;html lang=\"en\"&gt;\\n&lt;head&gt;\\n&lt;...</td>\n",
       "    </tr>\n",
       "    <tr>\n",
       "      <th>15</th>\n",
       "      <td>'http://aishite.tokyo/KIMDA'</td>\n",
       "      <td>http://aishite.tokyo/KIMDA</td>\n",
       "      <td>please wait automatic redirecting secure page</td>\n",
       "      <td>b'&lt;!DOCTYPE html&gt;\\n&lt;html lang=\"en\"&gt;\\n&lt;head&gt;\\n&lt;...</td>\n",
       "    </tr>\n",
       "    <tr>\n",
       "      <th>25</th>\n",
       "      <td>['http://memex.monster/'</td>\n",
       "      <td>http://memex.monster/</td>\n",
       "      <td>NaN</td>\n",
       "      <td>b''</td>\n",
       "    </tr>\n",
       "    <tr>\n",
       "      <th>...</th>\n",
       "      <td>...</td>\n",
       "      <td>...</td>\n",
       "      <td>...</td>\n",
       "      <td>...</td>\n",
       "    </tr>\n",
       "    <tr>\n",
       "      <th>2884</th>\n",
       "      <td>['http://kimoci.online/']</td>\n",
       "      <td>http://kimoci.online/</td>\n",
       "      <td>please wait automatic redirecting secure page</td>\n",
       "      <td>b'&lt;!DOCTYPE html&gt;\\n&lt;html lang=\"en\"&gt;\\n&lt;head&gt;\\n&lt;...</td>\n",
       "    </tr>\n",
       "    <tr>\n",
       "      <th>2885</th>\n",
       "      <td>['http://lh6churros.uno/']</td>\n",
       "      <td>http://lh6churros.uno/</td>\n",
       "      <td>free dating site warning see nude photos video...</td>\n",
       "      <td>b'\\r\\n\\r\\n&lt;!DOCTYPE html PUBLIC \"-//W3C//DTD X...</td>\n",
       "    </tr>\n",
       "    <tr>\n",
       "      <th>2886</th>\n",
       "      <td>['http://starmovies.uno/']</td>\n",
       "      <td>http://starmovies.uno/</td>\n",
       "      <td>starmovies uno domain recently registered name...</td>\n",
       "      <td>b'&lt;!DOCTYPE html&gt;\\n&lt;html data-adblockkey=\"MFww...</td>\n",
       "    </tr>\n",
       "    <tr>\n",
       "      <th>2887</th>\n",
       "      <td>['http://sexedate.uno/']</td>\n",
       "      <td>http://sexedate.uno/</td>\n",
       "      <td>free dating site warning see nude photos video...</td>\n",
       "      <td>b'\\r\\n\\r\\n&lt;!DOCTYPE html PUBLIC \"-//W3C//DTD X...</td>\n",
       "    </tr>\n",
       "    <tr>\n",
       "      <th>2889</th>\n",
       "      <td>'http://kingadik.uno/'</td>\n",
       "      <td>http://kingadik.uno/</td>\n",
       "      <td>sexy girl - sexy girl register find soulmate t...</td>\n",
       "      <td>b'\\r\\n\\r\\n&lt;!DOCTYPE html&gt;\\r\\n&lt;html lang=\"en-US...</td>\n",
       "    </tr>\n",
       "  </tbody>\n",
       "</table>\n",
       "<p>347 rows × 4 columns</p>\n",
       "</div>"
      ],
      "text/plain": [
       "                              Link-1                        urls  \\\n",
       "1            ['http://stepmom.uno/']         http://stepmom.uno/   \n",
       "2               ['http://cu46.uno/']            http://cu46.uno/   \n",
       "6       'http://aishite.tokyo/KIMDA'  http://aishite.tokyo/KIMDA   \n",
       "15      'http://aishite.tokyo/KIMDA'  http://aishite.tokyo/KIMDA   \n",
       "25          ['http://memex.monster/'       http://memex.monster/   \n",
       "...                              ...                         ...   \n",
       "2884       ['http://kimoci.online/']       http://kimoci.online/   \n",
       "2885      ['http://lh6churros.uno/']      http://lh6churros.uno/   \n",
       "2886      ['http://starmovies.uno/']      http://starmovies.uno/   \n",
       "2887        ['http://sexedate.uno/']        http://sexedate.uno/   \n",
       "2889          'http://kingadik.uno/'        http://kingadik.uno/   \n",
       "\n",
       "                                           text-content  \\\n",
       "1     free dating site warning see nude photos video...   \n",
       "2     free dating site warning see nude photos video...   \n",
       "6         please wait automatic redirecting secure page   \n",
       "15        please wait automatic redirecting secure page   \n",
       "25                                                  NaN   \n",
       "...                                                 ...   \n",
       "2884      please wait automatic redirecting secure page   \n",
       "2885  free dating site warning see nude photos video...   \n",
       "2886  starmovies uno domain recently registered name...   \n",
       "2887  free dating site warning see nude photos video...   \n",
       "2889  sexy girl - sexy girl register find soulmate t...   \n",
       "\n",
       "                                           html-content  \n",
       "1     b'<!DOCTYPE html PUBLIC \"-//W3C//DTD XHTML 1.0...  \n",
       "2     b'\\r\\n\\r\\n<!DOCTYPE html PUBLIC \"-//W3C//DTD X...  \n",
       "6     b'<!DOCTYPE html>\\n<html lang=\"en\">\\n<head>\\n<...  \n",
       "15    b'<!DOCTYPE html>\\n<html lang=\"en\">\\n<head>\\n<...  \n",
       "25                                                  b''  \n",
       "...                                                 ...  \n",
       "2884  b'<!DOCTYPE html>\\n<html lang=\"en\">\\n<head>\\n<...  \n",
       "2885  b'\\r\\n\\r\\n<!DOCTYPE html PUBLIC \"-//W3C//DTD X...  \n",
       "2886  b'<!DOCTYPE html>\\n<html data-adblockkey=\"MFww...  \n",
       "2887  b'\\r\\n\\r\\n<!DOCTYPE html PUBLIC \"-//W3C//DTD X...  \n",
       "2889  b'\\r\\n\\r\\n<!DOCTYPE html>\\r\\n<html lang=\"en-US...  \n",
       "\n",
       "[347 rows x 4 columns]"
      ]
     },
     "execution_count": 8,
     "metadata": {},
     "output_type": "execute_result"
    }
   ],
   "source": [
    "df"
   ]
  },
  {
   "cell_type": "code",
   "execution_count": 11,
   "metadata": {},
   "outputs": [
    {
     "data": {
      "application/vnd.jupyter.widget-view+json": {
       "model_id": "3c56cca9f20d4d6aa0d265756fda99a8",
       "version_major": 2,
       "version_minor": 0
      },
      "text/plain": [
       "  0%|          | 0/347 [00:00<?, ?it/s]"
      ]
     },
     "metadata": {},
     "output_type": "display_data"
    }
   ],
   "source": [
    "# scrape all the href of a url with request and bs4\n",
    "def get_href(url):\n",
    "    try:\n",
    "        response = requests.get(url)\n",
    "        soup = BeautifulSoup(response.content, 'html.parser')\n",
    "        return [a.get('href') for a in soup.find_all('a')]\n",
    "    except:\n",
    "        return None\n",
    "\n",
    "# get all the hrefs from all the urls in non_youtube_urls\n",
    "df['hrefs'] = df['urls'].progress_apply(get_href)"
   ]
  },
  {
   "cell_type": "code",
   "execution_count": 16,
   "metadata": {},
   "outputs": [
    {
     "data": {
      "text/plain": [
       "1       [https://quickdates7.com/?utm_source=OymI1DohK...\n",
       "2       [https://snapbabes9.com/?utm_source=87CqD6IvvG...\n",
       "6                                                      []\n",
       "15                                                     []\n",
       "25                                                     []\n",
       "                              ...                        \n",
       "2884                                                   []\n",
       "2885    [https://snapbabes9.com/?utm_source=87CqD6IvvG...\n",
       "2886    [https://www.namecheap.com, https://www.namech...\n",
       "2887    [https://snapbabes9.com/?utm_source=87CqD6IvvG...\n",
       "2889    [https://urflirtyjoy.com/?utm_source=P7Ofp6vtk...\n",
       "Name: hrefs, Length: 347, dtype: object"
      ]
     },
     "execution_count": 16,
     "metadata": {},
     "output_type": "execute_result"
    }
   ],
   "source": []
  },
  {
   "cell_type": "code",
   "execution_count": null,
   "metadata": {},
   "outputs": [],
   "source": []
  }
 ],
 "metadata": {
  "kernelspec": {
   "display_name": "Python 3.9.7 ('base')",
   "language": "python",
   "name": "python3"
  },
  "language_info": {
   "codemirror_mode": {
    "name": "ipython",
    "version": 3
   },
   "file_extension": ".py",
   "mimetype": "text/x-python",
   "name": "python",
   "nbconvert_exporter": "python",
   "pygments_lexer": "ipython3",
   "version": "3.9.7"
  },
  "orig_nbformat": 4,
  "vscode": {
   "interpreter": {
    "hash": "6d39f47e50317510f687384750e1e18985b8b3db3da213dcdf6ffd42f36a26b1"
   }
  }
 },
 "nbformat": 4,
 "nbformat_minor": 2
}
